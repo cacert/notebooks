{
 "cells": [
  {
   "cell_type": "markdown",
   "metadata": {},
   "source": [
    "                                # ESB log analizi calismalari\n",
    "    3 gunluk 1 saatlik loglarin analizi \n",
    "    Saat 10.00-11.00 araligi"
   ]
  },
  {
   "cell_type": "code",
   "execution_count": null,
   "metadata": {
    "collapsed": true
   },
   "outputs": [],
   "source": [
    "%matplotlib inline\n",
    "import pandas as pd\n",
    "import numpy as np"
   ]
  },
  {
   "cell_type": "code",
   "execution_count": null,
   "metadata": {
    "collapsed": false
   },
   "outputs": [],
   "source": [
    "s = pd.Series([1,2])"
   ]
  },
  {
   "cell_type": "code",
   "execution_count": null,
   "metadata": {
    "collapsed": false
   },
   "outputs": [],
   "source": [
    "type(s)"
   ]
  },
  {
   "cell_type": "code",
   "execution_count": null,
   "metadata": {
    "collapsed": true
   },
   "outputs": [],
   "source": [
    "import datetime"
   ]
  },
  {
   "cell_type": "code",
   "execution_count": null,
   "metadata": {
    "collapsed": true
   },
   "outputs": [],
   "source": [
    "# create a list containing dates from 12-01 to 12-07\n",
    "dt = datetime.datetime(2015,5,6)\n",
    "end = datetime.datetime(2015,5,13)\n",
    "step = datetime.timedelta(days=1)\n",
    "dates = []"
   ]
  },
  {
   "cell_type": "code",
   "execution_count": null,
   "metadata": {
    "collapsed": false
   },
   "outputs": [],
   "source": [
    "# populate the list\n",
    "while dt < end:\n",
    "    dates.append(dt.strftime('%m-%d'))\n",
    "    dt += step"
   ]
  },
  {
   "cell_type": "code",
   "execution_count": null,
   "metadata": {
    "collapsed": false
   },
   "outputs": [],
   "source": [
    "dt"
   ]
  },
  {
   "cell_type": "code",
   "execution_count": null,
   "metadata": {
    "collapsed": false
   },
   "outputs": [],
   "source": [
    "dates"
   ]
  },
  {
   "cell_type": "code",
   "execution_count": null,
   "metadata": {
    "collapsed": true
   },
   "outputs": [],
   "source": [
    "d = {'Date': dates, 'Tokyo' : [15,19,15,11,9,8,13], 'Paris': [-2,0,2,5,7,-5,-3], 'Mumbai':[20,18,23,19,25,27,23]}"
   ]
  },
  {
   "cell_type": "code",
   "execution_count": null,
   "metadata": {
    "collapsed": false
   },
   "outputs": [],
   "source": [
    "temps = pd.DataFrame(d)"
   ]
  },
  {
   "cell_type": "code",
   "execution_count": null,
   "metadata": {
    "collapsed": false
   },
   "outputs": [],
   "source": [
    "temps"
   ]
  },
  {
   "cell_type": "code",
   "execution_count": null,
   "metadata": {
    "collapsed": false
   },
   "outputs": [],
   "source": [
    "temps.set_index('Date')"
   ]
  },
  {
   "cell_type": "code",
   "execution_count": null,
   "metadata": {
    "collapsed": false
   },
   "outputs": [],
   "source": [
    "data = pd.read_csv('data/mlbsalaries.csv')"
   ]
  },
  {
   "cell_type": "code",
   "execution_count": null,
   "metadata": {
    "collapsed": false
   },
   "outputs": [],
   "source": [
    "data"
   ]
  },
  {
   "cell_type": "code",
   "execution_count": null,
   "metadata": {
    "collapsed": false
   },
   "outputs": [],
   "source": [
    "yr = data.groupby('Year')"
   ]
  },
  {
   "cell_type": "code",
   "execution_count": null,
   "metadata": {
    "collapsed": false
   },
   "outputs": [],
   "source": [
    "for i,j in yr:\n",
    "    #print i\n",
    "    print j"
   ]
  },
  {
   "cell_type": "code",
   "execution_count": null,
   "metadata": {
    "collapsed": true
   },
   "outputs": [],
   "source": [
    "#take all columns but first row \n",
    "t = ( group.sort_index(by='Salary',ascending=False)[:1] for year,group in yr) "
   ]
  },
  {
   "cell_type": "code",
   "execution_count": null,
   "metadata": {
    "collapsed": false
   },
   "outputs": [],
   "source": [
    "t"
   ]
  },
  {
   "cell_type": "code",
   "execution_count": null,
   "metadata": {
    "collapsed": false
   },
   "outputs": [],
   "source": [
    "for i in t:\n",
    "    print i "
   ]
  },
  {
   "cell_type": "code",
   "execution_count": null,
   "metadata": {
    "collapsed": true
   },
   "outputs": [],
   "source": [
    "#create empty dataframe for populating\n",
    "topsalaries = pd.DataFrame()"
   ]
  },
  {
   "cell_type": "code",
   "execution_count": null,
   "metadata": {
    "collapsed": false
   },
   "outputs": [],
   "source": [
    "for i in t:\n",
    "    topsalaries = topsalaries.append(i)\n",
    "    "
   ]
  },
  {
   "cell_type": "code",
   "execution_count": 42,
   "metadata": {
    "collapsed": false
   },
   "outputs": [
    {
     "data": {
      "text/html": [
       "<div style=\"max-height:1000px;max-width:1500px;overflow:auto;\">\n",
       "<table border=\"1\" class=\"dataframe\">\n",
       "  <thead>\n",
       "    <tr style=\"text-align: right;\">\n",
       "      <th></th>\n",
       "      <th>Year</th>\n",
       "      <th>Player</th>\n",
       "      <th>Salary</th>\n",
       "      <th>Position</th>\n",
       "      <th>Team</th>\n",
       "    </tr>\n",
       "  </thead>\n",
       "  <tbody>\n",
       "    <tr>\n",
       "      <th>321  </th>\n",
       "      <td> 1988</td>\n",
       "      <td>       Gary Carter</td>\n",
       "      <td>  2360714</td>\n",
       "      <td>           Catcher</td>\n",
       "      <td>       New York Mets</td>\n",
       "    </tr>\n",
       "    <tr>\n",
       "      <th>908  </th>\n",
       "      <td> 1989</td>\n",
       "      <td>    Orel Hershiser</td>\n",
       "      <td>  2766666</td>\n",
       "      <td>           Pitcher</td>\n",
       "      <td> Los Angeles Dodgers</td>\n",
       "    </tr>\n",
       "    <tr>\n",
       "      <th>1580 </th>\n",
       "      <td> 1990</td>\n",
       "      <td>       Robin Yount</td>\n",
       "      <td>  3200000</td>\n",
       "      <td>        Outfielder</td>\n",
       "      <td>   Milwaukee Brewers</td>\n",
       "    </tr>\n",
       "    <tr>\n",
       "      <th>2590 </th>\n",
       "      <td> 1991</td>\n",
       "      <td> Darryl Strawberry</td>\n",
       "      <td>  3800000</td>\n",
       "      <td>        Outfielder</td>\n",
       "      <td> Los Angeles Dodgers</td>\n",
       "    </tr>\n",
       "    <tr>\n",
       "      <th>3441 </th>\n",
       "      <td> 1992</td>\n",
       "      <td>     Bobby Bonilla</td>\n",
       "      <td>  6100000</td>\n",
       "      <td>        Outfielder</td>\n",
       "      <td>       New York Mets</td>\n",
       "    </tr>\n",
       "    <tr>\n",
       "      <th>4214 </th>\n",
       "      <td> 1993</td>\n",
       "      <td>     Bobby Bonilla</td>\n",
       "      <td>  6200000</td>\n",
       "      <td>        Outfielder</td>\n",
       "      <td>       New York Mets</td>\n",
       "    </tr>\n",
       "    <tr>\n",
       "      <th>4977 </th>\n",
       "      <td> 1994</td>\n",
       "      <td>     Bobby Bonilla</td>\n",
       "      <td>  6300000</td>\n",
       "      <td>     Third Baseman</td>\n",
       "      <td>       New York Mets</td>\n",
       "    </tr>\n",
       "    <tr>\n",
       "      <th>6068 </th>\n",
       "      <td> 1995</td>\n",
       "      <td>     Cecil Fielder</td>\n",
       "      <td>  9237500</td>\n",
       "      <td>     First Baseman</td>\n",
       "      <td>      Detroit Tigers</td>\n",
       "    </tr>\n",
       "    <tr>\n",
       "      <th>6840 </th>\n",
       "      <td> 1996</td>\n",
       "      <td>     Cecil Fielder</td>\n",
       "      <td>  9237500</td>\n",
       "      <td>     First Baseman</td>\n",
       "      <td>      Detroit Tigers</td>\n",
       "    </tr>\n",
       "    <tr>\n",
       "      <th>7666 </th>\n",
       "      <td> 1997</td>\n",
       "      <td>      Albert Belle</td>\n",
       "      <td> 10000000</td>\n",
       "      <td>        Outfielder</td>\n",
       "      <td>   Chicago White Sox</td>\n",
       "    </tr>\n",
       "    <tr>\n",
       "      <th>8090 </th>\n",
       "      <td> 1998</td>\n",
       "      <td>    Gary Sheffield</td>\n",
       "      <td> 10000000</td>\n",
       "      <td>        Outfielder</td>\n",
       "      <td>     Florida Marlins</td>\n",
       "    </tr>\n",
       "    <tr>\n",
       "      <th>9067 </th>\n",
       "      <td> 1999</td>\n",
       "      <td>      Albert Belle</td>\n",
       "      <td> 11949794</td>\n",
       "      <td>        Outfielder</td>\n",
       "      <td>   Baltimore Orioles</td>\n",
       "    </tr>\n",
       "    <tr>\n",
       "      <th>9743 </th>\n",
       "      <td> 2000</td>\n",
       "      <td>    Kevin J. Brown</td>\n",
       "      <td> 15714286</td>\n",
       "      <td>           Pitcher</td>\n",
       "      <td> Los Angeles Dodgers</td>\n",
       "    </tr>\n",
       "    <tr>\n",
       "      <th>10903</th>\n",
       "      <td> 2001</td>\n",
       "      <td>    Alex Rodriguez</td>\n",
       "      <td> 22000000</td>\n",
       "      <td>         Shortstop</td>\n",
       "      <td>       Texas Rangers</td>\n",
       "    </tr>\n",
       "    <tr>\n",
       "      <th>11752</th>\n",
       "      <td> 2002</td>\n",
       "      <td>    Alex Rodriguez</td>\n",
       "      <td> 22000000</td>\n",
       "      <td>         Shortstop</td>\n",
       "      <td>       Texas Rangers</td>\n",
       "    </tr>\n",
       "    <tr>\n",
       "      <th>12589</th>\n",
       "      <td> 2003</td>\n",
       "      <td>    Alex Rodriguez</td>\n",
       "      <td> 22000000</td>\n",
       "      <td>         Shortstop</td>\n",
       "      <td>       Texas Rangers</td>\n",
       "    </tr>\n",
       "    <tr>\n",
       "      <th>13497</th>\n",
       "      <td> 2004</td>\n",
       "      <td>     Manny Ramirez</td>\n",
       "      <td> 22500000</td>\n",
       "      <td>        Outfielder</td>\n",
       "      <td>      Boston Red Sox</td>\n",
       "    </tr>\n",
       "    <tr>\n",
       "      <th>14499</th>\n",
       "      <td> 2005</td>\n",
       "      <td>    Alex Rodriguez</td>\n",
       "      <td> 26000000</td>\n",
       "      <td>     Third Baseman</td>\n",
       "      <td>    New York Yankees</td>\n",
       "    </tr>\n",
       "    <tr>\n",
       "      <th>15320</th>\n",
       "      <td> 2006</td>\n",
       "      <td>    Alex Rodriguez</td>\n",
       "      <td> 21680727</td>\n",
       "      <td>     Third Baseman</td>\n",
       "      <td>    New York Yankees</td>\n",
       "    </tr>\n",
       "    <tr>\n",
       "      <th>16167</th>\n",
       "      <td> 2007</td>\n",
       "      <td>      Jason Giambi</td>\n",
       "      <td> 23428571</td>\n",
       "      <td> Designated Hitter</td>\n",
       "      <td>    New York Yankees</td>\n",
       "    </tr>\n",
       "    <tr>\n",
       "      <th>17023</th>\n",
       "      <td> 2008</td>\n",
       "      <td>    Alex Rodriguez</td>\n",
       "      <td> 28000000</td>\n",
       "      <td>     Third Baseman</td>\n",
       "      <td>    New York Yankees</td>\n",
       "    </tr>\n",
       "    <tr>\n",
       "      <th>17846</th>\n",
       "      <td> 2009</td>\n",
       "      <td>    Alex Rodriguez</td>\n",
       "      <td> 33000000</td>\n",
       "      <td>     Third Baseman</td>\n",
       "      <td>    New York Yankees</td>\n",
       "    </tr>\n",
       "    <tr>\n",
       "      <th>18675</th>\n",
       "      <td> 2010</td>\n",
       "      <td>    Alex Rodriguez</td>\n",
       "      <td> 33000000</td>\n",
       "      <td>     Third Baseman</td>\n",
       "      <td>    New York Yankees</td>\n",
       "    </tr>\n",
       "    <tr>\n",
       "      <th>19513</th>\n",
       "      <td> 2011</td>\n",
       "      <td>    Alex Rodriguez</td>\n",
       "      <td> 32000000</td>\n",
       "      <td>     Third Baseman</td>\n",
       "      <td>    New York Yankees</td>\n",
       "    </tr>\n",
       "  </tbody>\n",
       "</table>\n",
       "</div>"
      ],
      "text/plain": [
       "       Year             Player    Salary           Position  \\\n",
       "321    1988        Gary Carter   2360714            Catcher   \n",
       "908    1989     Orel Hershiser   2766666            Pitcher   \n",
       "1580   1990        Robin Yount   3200000         Outfielder   \n",
       "2590   1991  Darryl Strawberry   3800000         Outfielder   \n",
       "3441   1992      Bobby Bonilla   6100000         Outfielder   \n",
       "4214   1993      Bobby Bonilla   6200000         Outfielder   \n",
       "4977   1994      Bobby Bonilla   6300000      Third Baseman   \n",
       "6068   1995      Cecil Fielder   9237500      First Baseman   \n",
       "6840   1996      Cecil Fielder   9237500      First Baseman   \n",
       "7666   1997       Albert Belle  10000000         Outfielder   \n",
       "8090   1998     Gary Sheffield  10000000         Outfielder   \n",
       "9067   1999       Albert Belle  11949794         Outfielder   \n",
       "9743   2000     Kevin J. Brown  15714286            Pitcher   \n",
       "10903  2001     Alex Rodriguez  22000000          Shortstop   \n",
       "11752  2002     Alex Rodriguez  22000000          Shortstop   \n",
       "12589  2003     Alex Rodriguez  22000000          Shortstop   \n",
       "13497  2004      Manny Ramirez  22500000         Outfielder   \n",
       "14499  2005     Alex Rodriguez  26000000      Third Baseman   \n",
       "15320  2006     Alex Rodriguez  21680727      Third Baseman   \n",
       "16167  2007       Jason Giambi  23428571  Designated Hitter   \n",
       "17023  2008     Alex Rodriguez  28000000      Third Baseman   \n",
       "17846  2009     Alex Rodriguez  33000000      Third Baseman   \n",
       "18675  2010     Alex Rodriguez  33000000      Third Baseman   \n",
       "19513  2011     Alex Rodriguez  32000000      Third Baseman   \n",
       "\n",
       "                      Team  \n",
       "321          New York Mets  \n",
       "908    Los Angeles Dodgers  \n",
       "1580     Milwaukee Brewers  \n",
       "2590   Los Angeles Dodgers  \n",
       "3441         New York Mets  \n",
       "4214         New York Mets  \n",
       "4977         New York Mets  \n",
       "6068        Detroit Tigers  \n",
       "6840        Detroit Tigers  \n",
       "7666     Chicago White Sox  \n",
       "8090       Florida Marlins  \n",
       "9067     Baltimore Orioles  \n",
       "9743   Los Angeles Dodgers  \n",
       "10903        Texas Rangers  \n",
       "11752        Texas Rangers  \n",
       "12589        Texas Rangers  \n",
       "13497       Boston Red Sox  \n",
       "14499     New York Yankees  \n",
       "15320     New York Yankees  \n",
       "16167     New York Yankees  \n",
       "17023     New York Yankees  \n",
       "17846     New York Yankees  \n",
       "18675     New York Yankees  \n",
       "19513     New York Yankees  "
      ]
     },
     "execution_count": 42,
     "metadata": {},
     "output_type": "execute_result"
    }
   ],
   "source": [
    "topsalaries"
   ]
  },
  {
   "cell_type": "code",
   "execution_count": 53,
   "metadata": {
    "collapsed": false
   },
   "outputs": [],
   "source": [
    "g = topsalaries[['Year','Salary']]"
   ]
  },
  {
   "cell_type": "code",
   "execution_count": 57,
   "metadata": {
    "collapsed": false
   },
   "outputs": [],
   "source": [
    "g= g.set_index('Year')"
   ]
  },
  {
   "cell_type": "code",
   "execution_count": 58,
   "metadata": {
    "collapsed": false
   },
   "outputs": [
    {
     "data": {
      "text/plain": [
       "<matplotlib.axes._subplots.AxesSubplot at 0x1089e8250>"
      ]
     },
     "execution_count": 58,
     "metadata": {},
     "output_type": "execute_result"
    },
    {
     "data": {
      "image/png": "[encoded data removed]",
      "text/plain": [
       "<matplotlib.figure.Figure at 0x107bdf8d0>"
      ]
     },
     "metadata": {},
     "output_type": "display_data"
    }
   ],
   "source": [
    "g.plot()"
   ]
  },
  {
   "cell_type": "code",
   "execution_count": null,
   "metadata": {
    "collapsed": true
   },
   "outputs": [],
   "source": []
  }
 ],
 "metadata": {
  "kernelspec": {
   "display_name": "Python 2",
   "language": "python",
   "name": "python2"
  },
  "language_info": {
   "codemirror_mode": {
    "name": "ipython",
    "version": 2
   },
   "file_extension": ".py",
   "mimetype": "text/x-python",
   "name": "python",
   "nbconvert_exporter": "python",
   "pygments_lexer": "ipython2",
   "version": "2.7.9"
  }
 },
  "nbformat": 4,
 "nbformat_minor": 0
}
